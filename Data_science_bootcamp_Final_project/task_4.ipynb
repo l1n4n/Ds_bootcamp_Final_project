{
 "cells": [
  {
   "cell_type": "markdown",
   "metadata": {},
   "source": [
    "# Task 4\n",
    "通过评分与短评数据，构建情感褒贬分析分类器，通过短评数据预测用户“喜欢”or“不喜欢”电影"
   ]
  },
  {
   "cell_type": "code",
   "execution_count": 4,
   "metadata": {},
   "outputs": [
    {
     "data": {
      "text/html": [
       "<div>\n",
       "<table border=\"1\" class=\"dataframe\">\n",
       "  <thead>\n",
       "    <tr style=\"text-align: right;\">\n",
       "      <th></th>\n",
       "      <th>user</th>\n",
       "      <th>star</th>\n",
       "      <th>comment</th>\n",
       "      <th>time</th>\n",
       "      <th>name_length</th>\n",
       "      <th>cmt_length</th>\n",
       "      <th>year</th>\n",
       "      <th>month</th>\n",
       "      <th>day</th>\n",
       "      <th>weekday</th>\n",
       "      <th>weeknumber</th>\n",
       "      <th>name_w_alpha</th>\n",
       "      <th>cmt_w_alpha</th>\n",
       "      <th>name_w_digit</th>\n",
       "      <th>cmt_w_digit</th>\n",
       "    </tr>\n",
       "  </thead>\n",
       "  <tbody>\n",
       "    <tr>\n",
       "      <th>0</th>\n",
       "      <td>kingfish</td>\n",
       "      <td>5.0</td>\n",
       "      <td>不需要女主角的好电影</td>\n",
       "      <td>2006-03-22</td>\n",
       "      <td>8</td>\n",
       "      <td>10</td>\n",
       "      <td>2006</td>\n",
       "      <td>3</td>\n",
       "      <td>22</td>\n",
       "      <td>3</td>\n",
       "      <td>12</td>\n",
       "      <td>1</td>\n",
       "      <td>0</td>\n",
       "      <td>0</td>\n",
       "      <td>0</td>\n",
       "    </tr>\n",
       "    <tr>\n",
       "      <th>1</th>\n",
       "      <td>犀牛</td>\n",
       "      <td>5.0</td>\n",
       "      <td>当年的奥斯卡颁奖礼上，被如日中天的《阿甘正传》掩盖了它的光彩，而随着时间的推移，这部电影在越...</td>\n",
       "      <td>2005-10-28</td>\n",
       "      <td>2</td>\n",
       "      <td>160</td>\n",
       "      <td>2005</td>\n",
       "      <td>10</td>\n",
       "      <td>28</td>\n",
       "      <td>5</td>\n",
       "      <td>43</td>\n",
       "      <td>0</td>\n",
       "      <td>0</td>\n",
       "      <td>0</td>\n",
       "      <td>0</td>\n",
       "    </tr>\n",
       "    <tr>\n",
       "      <th>2</th>\n",
       "      <td>711|湯好运</td>\n",
       "      <td>5.0</td>\n",
       "      <td>策划了19年的私奔……</td>\n",
       "      <td>2010-03-27</td>\n",
       "      <td>7</td>\n",
       "      <td>11</td>\n",
       "      <td>2010</td>\n",
       "      <td>3</td>\n",
       "      <td>27</td>\n",
       "      <td>6</td>\n",
       "      <td>12</td>\n",
       "      <td>0</td>\n",
       "      <td>0</td>\n",
       "      <td>1</td>\n",
       "      <td>1</td>\n",
       "    </tr>\n",
       "    <tr>\n",
       "      <th>3</th>\n",
       "      <td>Eve|Classified</td>\n",
       "      <td>5.0</td>\n",
       "      <td>“这是一部男人必看的电影。”人人都这么说。但单纯从性别区分，就会让这电影变狭隘。《肖申克的救...</td>\n",
       "      <td>2008-05-09</td>\n",
       "      <td>14</td>\n",
       "      <td>218</td>\n",
       "      <td>2008</td>\n",
       "      <td>5</td>\n",
       "      <td>9</td>\n",
       "      <td>5</td>\n",
       "      <td>19</td>\n",
       "      <td>1</td>\n",
       "      <td>0</td>\n",
       "      <td>0</td>\n",
       "      <td>0</td>\n",
       "    </tr>\n",
       "    <tr>\n",
       "      <th>4</th>\n",
       "      <td>艾小柯</td>\n",
       "      <td>5.0</td>\n",
       "      <td>关于希望最强有力的注释。</td>\n",
       "      <td>2006-06-20</td>\n",
       "      <td>3</td>\n",
       "      <td>12</td>\n",
       "      <td>2006</td>\n",
       "      <td>6</td>\n",
       "      <td>20</td>\n",
       "      <td>2</td>\n",
       "      <td>25</td>\n",
       "      <td>0</td>\n",
       "      <td>0</td>\n",
       "      <td>0</td>\n",
       "      <td>0</td>\n",
       "    </tr>\n",
       "  </tbody>\n",
       "</table>\n",
       "</div>"
      ],
      "text/plain": [
       "             user  star                                            comment  \\\n",
       "0        kingfish   5.0                                         不需要女主角的好电影   \n",
       "1              犀牛   5.0  当年的奥斯卡颁奖礼上，被如日中天的《阿甘正传》掩盖了它的光彩，而随着时间的推移，这部电影在越...   \n",
       "2         711|湯好运   5.0                                        策划了19年的私奔……   \n",
       "3  Eve|Classified   5.0  “这是一部男人必看的电影。”人人都这么说。但单纯从性别区分，就会让这电影变狭隘。《肖申克的救...   \n",
       "4             艾小柯   5.0                                       关于希望最强有力的注释。   \n",
       "\n",
       "         time  name_length  cmt_length  year  month  day  weekday  weeknumber  \\\n",
       "0  2006-03-22            8          10  2006      3   22        3          12   \n",
       "1  2005-10-28            2         160  2005     10   28        5          43   \n",
       "2  2010-03-27            7          11  2010      3   27        6          12   \n",
       "3  2008-05-09           14         218  2008      5    9        5          19   \n",
       "4  2006-06-20            3          12  2006      6   20        2          25   \n",
       "\n",
       "   name_w_alpha  cmt_w_alpha  name_w_digit  cmt_w_digit\\r  \n",
       "0             1            0             0              0  \n",
       "1             0            0             0              0  \n",
       "2             0            0             1              1  \n",
       "3             1            0             0              0  \n",
       "4             0            0             0              0  "
      ]
     },
     "execution_count": 4,
     "metadata": {},
     "output_type": "execute_result"
    }
   ],
   "source": [
    "import pandas as pd\n",
    "import numpy as np\n",
    "data = pd.read_csv('./data/cmt_data2.csv', lineterminator='\\n')\n",
    "data.head()"
   ]
  },
  {
   "cell_type": "code",
   "execution_count": 5,
   "metadata": {},
   "outputs": [
    {
     "data": {
      "text/plain": [
       "array([  5.,   2.,   4.,   3.,  nan,   1.])"
      ]
     },
     "execution_count": 5,
     "metadata": {},
     "output_type": "execute_result"
    }
   ],
   "source": [
    "data.star.unique()"
   ]
  },
  {
   "cell_type": "code",
   "execution_count": 6,
   "metadata": {},
   "outputs": [
    {
     "data": {
      "text/plain": [
       "5.0    9735\n",
       "4.0    4915\n",
       "3.0    1609\n",
       "2.0     291\n",
       "1.0     141\n",
       "Name: star, dtype: int64"
      ]
     },
     "execution_count": 6,
     "metadata": {},
     "output_type": "execute_result"
    }
   ],
   "source": [
    "data.star.value_counts()"
   ]
  },
  {
   "cell_type": "code",
   "execution_count": 7,
   "metadata": {},
   "outputs": [
    {
     "data": {
      "text/plain": [
       "4.4266371098196631"
      ]
     },
     "execution_count": 7,
     "metadata": {},
     "output_type": "execute_result"
    }
   ],
   "source": [
    "## star缺失值处理\n",
    "#看均值\n",
    "data['star'].mean()"
   ]
  },
  {
   "cell_type": "code",
   "execution_count": 8,
   "metadata": {},
   "outputs": [
    {
     "data": {
      "text/plain": [
       "5.0    9735\n",
       "Name: star, dtype: int64"
      ]
     },
     "execution_count": 8,
     "metadata": {},
     "output_type": "execute_result"
    }
   ],
   "source": [
    "#看mode\n",
    "data['star'].value_counts().head(1)"
   ]
  },
  {
   "cell_type": "markdown",
   "metadata": {},
   "source": [
    "【初步结论】<br>\n",
    "不应该用mean或mode填充，因为没打分的不一定是喜欢。<br>\n",
    "保持原样或者用3星填充 --> 不会影响情感分类，因为大于等于4算“喜欢”，小于等于2算“不喜欢”"
   ]
  },
  {
   "cell_type": "code",
   "execution_count": 9,
   "metadata": {},
   "outputs": [
    {
     "data": {
      "text/plain": [
       "5.0    9735\n",
       "4.0    4915\n",
       "3.0    2018\n",
       "2.0     291\n",
       "1.0     141\n",
       "Name: star, dtype: int64"
      ]
     },
     "execution_count": 9,
     "metadata": {},
     "output_type": "execute_result"
    }
   ],
   "source": [
    "# 用3星填充\n",
    "data['star'].fillna(3, inplace=True)\n",
    "data['star'].value_counts()"
   ]
  },
  {
   "cell_type": "code",
   "execution_count": 19,
   "metadata": {
    "collapsed": true
   },
   "outputs": [],
   "source": [
    "# 加情感分类标签\n",
    "def addTag(star):\n",
    "    tag = np.nan\n",
    "    if star >= 4:\n",
    "        tag = 1\n",
    "    elif star <= 2:\n",
    "        tag = 0\n",
    "    return tag"
   ]
  },
  {
   "cell_type": "code",
   "execution_count": 20,
   "metadata": {
    "collapsed": true
   },
   "outputs": [],
   "source": [
    "data['tag'] = data['star'].map(lambda x: addTag(x))"
   ]
  },
  {
   "cell_type": "code",
   "execution_count": 21,
   "metadata": {},
   "outputs": [
    {
     "data": {
      "text/html": [
       "<div>\n",
       "<table border=\"1\" class=\"dataframe\">\n",
       "  <thead>\n",
       "    <tr style=\"text-align: right;\">\n",
       "      <th></th>\n",
       "      <th>user</th>\n",
       "      <th>star</th>\n",
       "      <th>comment</th>\n",
       "      <th>time</th>\n",
       "      <th>name_length</th>\n",
       "      <th>cmt_length</th>\n",
       "      <th>year</th>\n",
       "      <th>month</th>\n",
       "      <th>day</th>\n",
       "      <th>weekday</th>\n",
       "      <th>weeknumber</th>\n",
       "      <th>name_w_alpha</th>\n",
       "      <th>cmt_w_alpha</th>\n",
       "      <th>name_w_digit</th>\n",
       "      <th>cmt_w_digit</th>\n",
       "      <th>tag</th>\n",
       "    </tr>\n",
       "  </thead>\n",
       "  <tbody>\n",
       "    <tr>\n",
       "      <th>0</th>\n",
       "      <td>kingfish</td>\n",
       "      <td>5.0</td>\n",
       "      <td>不需要女主角的好电影</td>\n",
       "      <td>2006-03-22</td>\n",
       "      <td>8</td>\n",
       "      <td>10</td>\n",
       "      <td>2006</td>\n",
       "      <td>3</td>\n",
       "      <td>22</td>\n",
       "      <td>3</td>\n",
       "      <td>12</td>\n",
       "      <td>1</td>\n",
       "      <td>0</td>\n",
       "      <td>0</td>\n",
       "      <td>0</td>\n",
       "      <td>1.0</td>\n",
       "    </tr>\n",
       "    <tr>\n",
       "      <th>1</th>\n",
       "      <td>犀牛</td>\n",
       "      <td>5.0</td>\n",
       "      <td>当年的奥斯卡颁奖礼上，被如日中天的《阿甘正传》掩盖了它的光彩，而随着时间的推移，这部电影在越...</td>\n",
       "      <td>2005-10-28</td>\n",
       "      <td>2</td>\n",
       "      <td>160</td>\n",
       "      <td>2005</td>\n",
       "      <td>10</td>\n",
       "      <td>28</td>\n",
       "      <td>5</td>\n",
       "      <td>43</td>\n",
       "      <td>0</td>\n",
       "      <td>0</td>\n",
       "      <td>0</td>\n",
       "      <td>0</td>\n",
       "      <td>1.0</td>\n",
       "    </tr>\n",
       "    <tr>\n",
       "      <th>2</th>\n",
       "      <td>711|湯好运</td>\n",
       "      <td>5.0</td>\n",
       "      <td>策划了19年的私奔……</td>\n",
       "      <td>2010-03-27</td>\n",
       "      <td>7</td>\n",
       "      <td>11</td>\n",
       "      <td>2010</td>\n",
       "      <td>3</td>\n",
       "      <td>27</td>\n",
       "      <td>6</td>\n",
       "      <td>12</td>\n",
       "      <td>0</td>\n",
       "      <td>0</td>\n",
       "      <td>1</td>\n",
       "      <td>1</td>\n",
       "      <td>1.0</td>\n",
       "    </tr>\n",
       "    <tr>\n",
       "      <th>3</th>\n",
       "      <td>Eve|Classified</td>\n",
       "      <td>5.0</td>\n",
       "      <td>“这是一部男人必看的电影。”人人都这么说。但单纯从性别区分，就会让这电影变狭隘。《肖申克的救...</td>\n",
       "      <td>2008-05-09</td>\n",
       "      <td>14</td>\n",
       "      <td>218</td>\n",
       "      <td>2008</td>\n",
       "      <td>5</td>\n",
       "      <td>9</td>\n",
       "      <td>5</td>\n",
       "      <td>19</td>\n",
       "      <td>1</td>\n",
       "      <td>0</td>\n",
       "      <td>0</td>\n",
       "      <td>0</td>\n",
       "      <td>1.0</td>\n",
       "    </tr>\n",
       "    <tr>\n",
       "      <th>4</th>\n",
       "      <td>艾小柯</td>\n",
       "      <td>5.0</td>\n",
       "      <td>关于希望最强有力的注释。</td>\n",
       "      <td>2006-06-20</td>\n",
       "      <td>3</td>\n",
       "      <td>12</td>\n",
       "      <td>2006</td>\n",
       "      <td>6</td>\n",
       "      <td>20</td>\n",
       "      <td>2</td>\n",
       "      <td>25</td>\n",
       "      <td>0</td>\n",
       "      <td>0</td>\n",
       "      <td>0</td>\n",
       "      <td>0</td>\n",
       "      <td>1.0</td>\n",
       "    </tr>\n",
       "  </tbody>\n",
       "</table>\n",
       "</div>"
      ],
      "text/plain": [
       "             user  star                                            comment  \\\n",
       "0        kingfish   5.0                                         不需要女主角的好电影   \n",
       "1              犀牛   5.0  当年的奥斯卡颁奖礼上，被如日中天的《阿甘正传》掩盖了它的光彩，而随着时间的推移，这部电影在越...   \n",
       "2         711|湯好运   5.0                                        策划了19年的私奔……   \n",
       "3  Eve|Classified   5.0  “这是一部男人必看的电影。”人人都这么说。但单纯从性别区分，就会让这电影变狭隘。《肖申克的救...   \n",
       "4             艾小柯   5.0                                       关于希望最强有力的注释。   \n",
       "\n",
       "         time  name_length  cmt_length  year  month  day  weekday  weeknumber  \\\n",
       "0  2006-03-22            8          10  2006      3   22        3          12   \n",
       "1  2005-10-28            2         160  2005     10   28        5          43   \n",
       "2  2010-03-27            7          11  2010      3   27        6          12   \n",
       "3  2008-05-09           14         218  2008      5    9        5          19   \n",
       "4  2006-06-20            3          12  2006      6   20        2          25   \n",
       "\n",
       "   name_w_alpha  cmt_w_alpha  name_w_digit  cmt_w_digit\\r  tag  \n",
       "0             1            0             0              0  1.0  \n",
       "1             0            0             0              0  1.0  \n",
       "2             0            0             1              1  1.0  \n",
       "3             1            0             0              0  1.0  \n",
       "4             0            0             0              0  1.0  "
      ]
     },
     "execution_count": 21,
     "metadata": {},
     "output_type": "execute_result"
    }
   ],
   "source": [
    "data.head()"
   ]
  },
  {
   "cell_type": "code",
   "execution_count": 27,
   "metadata": {},
   "outputs": [
    {
     "data": {
      "text/html": [
       "<div>\n",
       "<table border=\"1\" class=\"dataframe\">\n",
       "  <thead>\n",
       "    <tr style=\"text-align: right;\">\n",
       "      <th></th>\n",
       "      <th>comment</th>\n",
       "      <th>tag</th>\n",
       "    </tr>\n",
       "  </thead>\n",
       "  <tbody>\n",
       "    <tr>\n",
       "      <th>0</th>\n",
       "      <td>不需要女主角的好电影</td>\n",
       "      <td>1.0</td>\n",
       "    </tr>\n",
       "    <tr>\n",
       "      <th>1</th>\n",
       "      <td>当年的奥斯卡颁奖礼上，被如日中天的《阿甘正传》掩盖了它的光彩，而随着时间的推移，这部电影在越...</td>\n",
       "      <td>1.0</td>\n",
       "    </tr>\n",
       "    <tr>\n",
       "      <th>2</th>\n",
       "      <td>策划了19年的私奔……</td>\n",
       "      <td>1.0</td>\n",
       "    </tr>\n",
       "    <tr>\n",
       "      <th>3</th>\n",
       "      <td>“这是一部男人必看的电影。”人人都这么说。但单纯从性别区分，就会让这电影变狭隘。《肖申克的救...</td>\n",
       "      <td>1.0</td>\n",
       "    </tr>\n",
       "    <tr>\n",
       "      <th>4</th>\n",
       "      <td>关于希望最强有力的注释。</td>\n",
       "      <td>1.0</td>\n",
       "    </tr>\n",
       "  </tbody>\n",
       "</table>\n",
       "</div>"
      ],
      "text/plain": [
       "                                             comment  tag\n",
       "0                                         不需要女主角的好电影  1.0\n",
       "1  当年的奥斯卡颁奖礼上，被如日中天的《阿甘正传》掩盖了它的光彩，而随着时间的推移，这部电影在越...  1.0\n",
       "2                                        策划了19年的私奔……  1.0\n",
       "3  “这是一部男人必看的电影。”人人都这么说。但单纯从性别区分，就会让这电影变狭隘。《肖申克的救...  1.0\n",
       "4                                       关于希望最强有力的注释。  1.0"
      ]
     },
     "execution_count": 27,
     "metadata": {},
     "output_type": "execute_result"
    }
   ],
   "source": [
    "train_val = data[['comment', 'tag']].dropna(how='any')\n",
    "train_val.head()"
   ]
  },
  {
   "cell_type": "code",
   "execution_count": 29,
   "metadata": {
    "collapsed": true
   },
   "outputs": [],
   "source": [
    "# stopword list\n",
    "stopwords = []\n",
    "with open('stopwords.txt', 'r', errors='ignore') as f:        \n",
    "    for line in f.readlines():\n",
    "        stopwords.append(line.strip())"
   ]
  },
  {
   "cell_type": "code",
   "execution_count": 32,
   "metadata": {
    "collapsed": true
   },
   "outputs": [],
   "source": [
    "# 中文comment 分词 + 去除停用词\n",
    "import jieba \n",
    "def sent2word(sentence):\n",
    "    \"\"\"\n",
    "    Segment a chinese sentence to words\n",
    "    Delete stopwords\n",
    "    \"\"\"\n",
    "    segList = jieba.cut(sentence)\n",
    "    segResult = []\n",
    "    for w in segList:\n",
    "        segResult.append(w)\n",
    "\n",
    "               \n",
    "    words = []\n",
    "    for word in segResult:\n",
    "        if word in stopwords:\n",
    "            # print \"stopword: %s\" % word\n",
    "            continue\n",
    "        else:\n",
    "            words.append(word)\n",
    "\n",
    "    return ' '.join(words)"
   ]
  },
  {
   "cell_type": "code",
   "execution_count": 33,
   "metadata": {},
   "outputs": [
    {
     "data": {
      "text/html": [
       "<div>\n",
       "<table border=\"1\" class=\"dataframe\">\n",
       "  <thead>\n",
       "    <tr style=\"text-align: right;\">\n",
       "      <th></th>\n",
       "      <th>comment</th>\n",
       "      <th>tag</th>\n",
       "      <th>seg_cmt</th>\n",
       "    </tr>\n",
       "  </thead>\n",
       "  <tbody>\n",
       "    <tr>\n",
       "      <th>0</th>\n",
       "      <td>不需要女主角的好电影</td>\n",
       "      <td>1.0</td>\n",
       "      <td>女主角 电影</td>\n",
       "    </tr>\n",
       "    <tr>\n",
       "      <th>1</th>\n",
       "      <td>当年的奥斯卡颁奖礼上，被如日中天的《阿甘正传》掩盖了它的光彩，而随着时间的推移，这部电影在越...</td>\n",
       "      <td>1.0</td>\n",
       "      <td>当年 奥斯卡 颁奖礼 如日中天 阿甘正传 掩盖 光彩 时间 推移 这部 电影 越来越 心中 ...</td>\n",
       "    </tr>\n",
       "    <tr>\n",
       "      <th>2</th>\n",
       "      <td>策划了19年的私奔……</td>\n",
       "      <td>1.0</td>\n",
       "      <td>策划 19 年 私奔</td>\n",
       "    </tr>\n",
       "    <tr>\n",
       "      <th>3</th>\n",
       "      <td>“这是一部男人必看的电影。”人人都这么说。但单纯从性别区分，就会让这电影变狭隘。《肖申克的救...</td>\n",
       "      <td>1.0</td>\n",
       "      <td>这是 一部 男人 必看 电影 说 性别 区分 电影 变 狭隘 肖申克 救赎 突破 男人 电影...</td>\n",
       "    </tr>\n",
       "    <tr>\n",
       "      <th>4</th>\n",
       "      <td>关于希望最强有力的注释。</td>\n",
       "      <td>1.0</td>\n",
       "      <td>希望 强有力 注释</td>\n",
       "    </tr>\n",
       "  </tbody>\n",
       "</table>\n",
       "</div>"
      ],
      "text/plain": [
       "                                             comment  tag  \\\n",
       "0                                         不需要女主角的好电影  1.0   \n",
       "1  当年的奥斯卡颁奖礼上，被如日中天的《阿甘正传》掩盖了它的光彩，而随着时间的推移，这部电影在越...  1.0   \n",
       "2                                        策划了19年的私奔……  1.0   \n",
       "3  “这是一部男人必看的电影。”人人都这么说。但单纯从性别区分，就会让这电影变狭隘。《肖申克的救...  1.0   \n",
       "4                                       关于希望最强有力的注释。  1.0   \n",
       "\n",
       "                                             seg_cmt  \n",
       "0                                             女主角 电影  \n",
       "1  当年 奥斯卡 颁奖礼 如日中天 阿甘正传 掩盖 光彩 时间 推移 这部 电影 越来越 心中 ...  \n",
       "2                                         策划 19 年 私奔  \n",
       "3  这是 一部 男人 必看 电影 说 性别 区分 电影 变 狭隘 肖申克 救赎 突破 男人 电影...  \n",
       "4                                          希望 强有力 注释  "
      ]
     },
     "execution_count": 33,
     "metadata": {},
     "output_type": "execute_result"
    }
   ],
   "source": [
    "train_val['seg_cmt'] = train_val['comment'].map(lambda x: sent2word(x))\n",
    "train_val.head()"
   ]
  },
  {
   "cell_type": "code",
   "execution_count": 34,
   "metadata": {
    "collapsed": true
   },
   "outputs": [],
   "source": [
    "train_val.to_csv('./data/train_val.csv')"
   ]
  },
  {
   "cell_type": "code",
   "execution_count": 35,
   "metadata": {},
   "outputs": [
    {
     "data": {
      "text/plain": [
       "['女主角 电影',\n",
       " '当年 奥斯卡 颁奖礼 如日中天 阿甘正传 掩盖 光彩 时间 推移 这部 电影 越来越 心中 地位 超越 阿甘 现实 令 疲惫 无力感 翻出 这张 碟 重获 力量 毫无疑问 本片 位列 男人 必看 电影 前三名 回顾 一段 经典台词 羽翼 光辉 世界 黑暗 牢狱 长久 围困',\n",
       " '策划 19 年 私奔',\n",
       " '这是 一部 男人 必看 电影 说 性别 区分 电影 变 狭隘 肖申克 救赎 突破 男人 电影 局限 通篇 充满 令人 难以置信 温馨 基调 电影 里 主题 希望 \\r \\r\\n 无奈 肖申克 囚禁 心灵 自由 那种 囹圄 无奈 布鲁克 灰心 瑞德 智慧 安迪 智慧 信任 希望 勇敢 面对 恐惧心理 打败 \\r \\r\\n 经典 电影 经典 做 一件 事 角度 欣赏 希望 美好',\n",
       " '希望 强有力 注释',\n",
       " '种鸟 关不住',\n",
       " '忒 经典 东西 我要 坟墓',\n",
       " '超级 喜欢 超级 喜欢 不看 人生 圆满',\n",
       " '无疑 一部 经典 爱死',\n",
       " '真的 喜欢 好看 感觉',\n",
       " '生命 是从 洞穴 通往 世界 世界 雨 中 颤抖 i   hope',\n",
       " 'Fear   Can   Hold   You   Prisoner   Hope   Can   Set   You   Free',\n",
       " 'Hope   is   a   good   thing   and   maybe   the   best   thing   of   all',\n",
       " '人会 喜欢 书 电影',\n",
       " 'hope   is   a   good   thing',\n",
       " '越狱 感觉 改编自',\n",
       " '1994 年 台湾 引进 一部 卖座 老片 The   Sting 错 译成 刺激 1995 年 本片 上映 时 片商 剧情 刺激 类似 地方 高智商 复仇 译成 刺激 1995 1998 年 一部 片子 Return   To   Paradise 含有 牢狱 情节 译成 刺激 1998',\n",
       " '大众 经典 感冒 欣赏 水平 不行',\n",
       " '',\n",
       " '一部 爱情 美女 电影 光芒四射',\n",
       " '男人 舍得 背叛',\n",
       " '完 振奋',\n",
       " '墙里 喊 自由 墙外',\n",
       " '喜欢 电影',\n",
       " '被誉为 影史 最棒 排名 肯定 经典 缜密 逃狱 现代版 基督山 恩仇记 弗兰克 德拉 邦 叙事 有板有眼 斯蒂芬 金 大师 经典小说 很会 精妙 铺垫 转移 注意力 一幅 美女 画 背后 地道 蒂姆 罗宾斯 冤狱 饱受 欺凌 监狱 黑暗 腐朽 摩根 出狱 难融 社会 遭遇 自由 曙光 向往 很棒 人性 反思 力作',\n",
       " '这部 电影 没什么 说 史上 完美 电影 一秒 尿 尿 时间',\n",
       " '明修栈道 暗渡陈仓',\n",
       " '对不起 戒酒',\n",
       " '酣畅淋漓',\n",
       " '这是 一部 希望 经典之作 监狱 关不住 希望 主人 公安 迪遭 误解 身陷囹圄 靠着 内心 无比 坚定 无尽 等待 中 利用 智慧 希望 一把 小铁锤 救赎 生命 救赎 监狱 希望 种子 播种 说 安迪 英雄 强者 安迪 瑞德 缘份 友情 打动 人心 值得 一看再看',\n",
       " '好片 远比 这部 片 更好 整天 这部 电影 稀奇 不行 同年 电影 喜欢 阿甘',\n",
       " '不多 说',\n",
       " '期待 过高 导致 失望',\n",
       " '太 感人 电影 完整 看过 四遍 安迪 下水道 爬 出后 水里 雨 中 仰天长啸 时 瞬间 泪奔',\n",
       " '虚假 巧合 当作 精妙 突兀 后果 使人 惊叹 受 启发 脱离 决绝',\n",
       " '发现自己 真的 回看 经典   女主 经典   自由 希望   美好 词汇   迂腐 体会   两个 词 一年 前 提起   我会 鄙夷   两个 词太 虚无缥缈   假大空     提起   我会 说   爱 自由 希望',\n",
       " '肖申克中 生存 体制 当今社会 体制 痛改前非 一次次 投入 黑暗 之中 当权者 干着 肮脏 勾当 却会 公众 面前 宣讲 拯救 之道 性格 棱角 思想 火花 体制 化 习惯 逆来顺受 平安 生存',\n",
       " '试 自由 生命 20 年 一日 逃脱',\n",
       " '天下大同 PS 停留 前去 相逢 车子 远去 背影 拍出 重遇 相拥',\n",
       " '完后 真的 哭 男主 想 监狱 自由 那种 渴望 太 震撼',\n",
       " '这部 片子 播后 入狱 场景 衍生 一系列 人文 教皇 典狱长 东西 两派 同性 狎 轧成 美国 监狱 片 少不了 场景 津津乐道 场面 男主角 逃脱 出狱 后迎 风雨 呐喊 自由 场景',\n",
       " '看不惯 高于 生死 论调 高于 生死 东西 信仰 尊严 艺术 高于 生死 可惜 核心 价值观 好死不如 赖 活着 人种 明白 道理',\n",
       " '胜利   最终 墙上 弄 洞',\n",
       " '高中 第一节 心理 课 一种 鸟 关不住 羽毛 闪耀着 自由 光辉 不幸 成 逆反 宣言 哈哈哈',\n",
       " '经典 反复 品味 安迪 生活 自由 充满 向往 出狱 新生 早已 习惯 监狱 生活 瑞德 变得 麻木 出狱 死亡',\n",
       " '好奇 这部 片 过度 赞誉 地步',\n",
       " '重看 影城 超越 年代 主流 心灵鸡汤 依然 灌得 眼泪 直冒 世上 希望 多行 一步 希望 绝望 黑暗 处 生出 倔强 微光 卡夫卡 式 悖论 每人 背负着 有形 无形 肖申克 注定 囚禁 鸟儿 挣脱 桎梏 天才 善于 做梦 类型 片 元素 集成 充满 匠气 完美 作品',\n",
       " '最最 最最 好看 电影',\n",
       " '放弃 希望',\n",
       " '下水道 逃出去 真的 太 震撼 说 男主对 自由 执念 克服 监狱 里 学习 外面 世界 脱轨 从容 面对 监狱 小小 世界 里 主宰 说 学习 学到老 活到老',\n",
       " '这是 一部 自由 友情 正义 电影 信念 灭 希望 永存 救赎 选择 方式',\n",
       " '完 烧脑 第二次 男主人 太 厉害',\n",
       " '一部 女主 爱情 特技 片子 大学 英语老师 喜欢 放 学生 片子 这部 片子 讲诉 故事 救赎 换回 自由 一种 信念 驱使 做 这部 片子 感人 成长',\n",
       " '不愧 好莱坞 大片 一环扣一环 没想到 逃生 生天 偷偷 典狱长 贪污 转移 证据 送达 关心 情节 安排 巧妙 演员 演绎 美国 爱国 情节 四分',\n",
       " '疑惑 这部 片 肖申克 救赎 这是 一部 自我 救赎 故事 忙 生 忙 死 心存 希望 奇迹',\n",
       " '经典 中 经典 记得 豆瓣 影评 中 最高分',\n",
       " '自我 救赎 唯一 出口 感叹 知识 改变命运',\n",
       " '忙 忙 死',\n",
       " '成功 现实 少 值得一看',\n",
       " '说 越狱 系列 影片 鼻祖 故事情节 细腻 紧凑 被迫 入狱 狱中 斗智斗勇 夹缝 中 求生存 重获 自由 渴望 超高 智商 勇气 一次次 化险为夷 最终 狱友 成功 逃离 自由 侧面 揭露 社会 黑暗 腐败 不堪 入眼 值得 深思 回味',\n",
       " '活着 希望 一点 错 当老布 自杀 想 回到 监狱 里 度过 剩余 日子 当安迪 终于 美好 真的 希望 快乐 勇敢 活下去 失意 想起 片子 想起 努力 想尽办法 脱身 冲出重围 站 真的 太 励志',\n",
       " '内心 坚强 信念',\n",
       " '不管怎么 说 真的 佩服 男主 毅力 情况 迷失 追求 向往 自由',\n",
       " '看一遍',\n",
       " '几年 前 完 挺久 回神 第一次 一部 电影 反思 心中 电影 第一名',\n",
       " '回顾 一部 片子 心情 低落 人生 低谷 随便 什 打开 听 摩根 弗里 曼 低沉 声音 娓娓道来 故事 感觉 电影 人生 陪伴',\n",
       " '天知道 第几次 重看 可贵 地方 多层次 嵌套 主题 一种 内在 timeless 品质 情感 表述 观众 身处 时代 何种 背景 抱持 心理 状态 不由自主 relate 角色 某段 情节',\n",
       " '第一次 懂 一半 就关 全片 当之无愧 经典 世界 从来不 公平 永远 一颗 坚定 不屈 心',\n",
       " '常年 霸占 豆瓣 电影 第一名 盛名之下 心理 预期 太高 看过 一点点 失望 电影 越狱 系列 no 绝境 之下 放弃 隐忍 睿智 知识 永远 第一 生产力',\n",
       " '何为 救赎 重燃 心中 希望 救赎 希望 环境 恶劣 安迪 放弃 坚持不懈 写信 换来 更好 图书馆 拿到 高中 文凭 社会 生存能力 惹怒 看守 想 听到 美妙 歌声 点燃 希望 之光 一种 鸟儿 永远 关不住',\n",
       " '精彩 永远 放弃 久 成功 努力 一点点 坚持不懈 总会 收获',\n",
       " '绝望 里长 希望 带来 无限 勇气',\n",
       " '上帝 放弃 救',\n",
       " '坚韧不拔 逆境 中 闪耀着 人性 光辉',\n",
       " '记住 希望 好事 也许 人间 至善 美好 事 永不 消失',\n",
       " '经典 片 一看再看 几天 书 看一遍',\n",
       " '一瞬间',\n",
       " '很难 一部 电影 能比 肖申克 救赎 更好 诠释 梦想 救赎 两个 词 关联 真谛 电影 予人 带来 心理 震撼 洗涤 深刻 主角 安迪 男二 黑人 瑞德 主辅 相成 两条 脉络 营造 关乎 追梦 自由 心灵 救赎 诠释 生活 梦想 失败 能心 拥 梦想 便定 希望 救赎',\n",
       " '艾迪 一只 羽毛 太漂亮 鸟 多年 妻子 死 赎罪 错 向往 自由 飞',\n",
       " '2008 年 11 月 28 日 第一次 看肖 申克 观影 量 不到 五百 五星 见识 浅 九年 豆瓣 标注 看过 超过 三千 第二次 五星 片 太 滴水不漏',\n",
       " '救赎 灵魂 自由 信念 这部 电影 体会',\n",
       " '习惯 监狱 生活 接受 生活 真实 恐怖 勇敢 面对 生活 逃离 舒适 区',\n",
       " '学期 全班同学 心理 电影 下课 依旧 不舍 坐在 位置 盯 屏幕 活着 信念 满满的 充斥 内心 早就 死 四面 铜墙 里 人生 希望 伴着 绝望 那要 想 救赎 了结',\n",
       " '地方 生活 热情   男主放 音乐 真的 震撼   无尽 黑暗 里 寻求 友情 快乐   男主 生活 态度 影响 监狱   第一次 发现 学 经济 有用',\n",
       " '真的 很金典 渴望 自由 现实生活 束缚 矛盾 个体 希望 人能 安迪 找到 自由 喜欢 摩根 弗里 曼',\n",
       " 'hope   is   a   good   thing maybe   the   best   of   things and   no   good   thing   ever   dies 这片 没什么 说',\n",
       " '喷打 四星 三星 水平 远逊 小说 原著 小说 平铺直叙 调子 讲到 尾 电影 咋咋呼呼 效果 好多',\n",
       " '病人   渴望 活着   好好 活着   惧怕 生活',\n",
       " '以肖 申克 故事 美国 监狱 腐败 犯人 人性 很棒 文学作品 它会 社会 背景 肖申克 智慧 坚韧 正义 战胜 邪恶 美好 结局',\n",
       " 'Hope   is   a   good   thing   and   maybe   the   best   of   things   And   no   good   thing   ever   dies',\n",
       " '自由 渴望 表现 逃不过 内心深处 渴望 发现 冤枉 纠结 死',\n",
       " '善非 善恶 非所恶   肖申克 囚牢 里 囚禁 同化 扭曲   安迪 说 运气 不好   阴差阳错 替罪羊   监狱 经历 绝望   错   赎 完罪   洗 黑钱 逃税 钻 法制 漏洞   瑞德 图书馆 那场 对话   说 清清白白   压抑   本片 高潮 处   汤姆 枪杀 安迪 越狱   时间 缺 希望',\n",
       " '隐忍 布局 一触即发 翻盘 讨酒 写信 广播 几个 事件 中 男主 内敛 思绪 窥见一斑 全片 精彩 外 积压 一种 自由 渴望 冲破 狭隘 牢笼 海阔天空 结局 甚 美好 片中 上吊 老爷子 早已 磨灭 希望 消极 典型 意在 男主',\n",
       " 'Hope   is   a   good   thing',\n",
       " '推上 神坛 电影 莫名 恐惧 雪藏 五六年 完 发现 雄踞 各类 榜首 至多 称作 经典 称作 Fear   Can   Hold   You   Prisoner   Hope   Can   Set   You   Free   Hope   is   a   good   thing',\n",
       " '人性',\n",
       " '怒赞 很难 一部 电影 能比 肖申克 救赎 更好 诠释 梦想 救赎 两个 词 关联 电影 予人 带来 心理 洗涤 震撼 深刻 安迪 生活 中 看似 无以 迈 坎 算 心拥 梦想 失败 定能 希望 救赎',\n",
       " '久 印象 深刻 一位 老人 出狱 生活 外面 一切都是 熟悉 工作 交流 生活 最终 选择 结束 生命 习惯 真的 一种 强大 可怕 力量',\n",
       " '史上 有名 烂俗 励志 片',\n",
       " '看过 太 多遍 人性 独到 阐述 理解 每看 体会']"
      ]
     },
     "execution_count": 35,
     "metadata": {},
     "output_type": "execute_result"
    }
   ],
   "source": [
    "# 用sklearn.feature_extraction.text.TfidfVectorizer\n",
    "X_all = train_val['seg_cmt'].values.tolist()\n",
    "X_all[:100]"
   ]
  },
  {
   "cell_type": "code",
   "execution_count": 36,
   "metadata": {},
   "outputs": [
    {
     "data": {
      "text/plain": [
       "TfidfVectorizer(analyzer='word', binary=False, decode_error='strict',\n",
       "        dtype=<class 'numpy.int64'>, encoding='utf-8', input='content',\n",
       "        lowercase=True, max_df=1.0, max_features=None, min_df=3,\n",
       "        ngram_range=(1, 2), norm='l2', preprocessor=None, smooth_idf=1,\n",
       "        stop_words='english', strip_accents=None, sublinear_tf=1,\n",
       "        token_pattern='(?u)\\\\b\\\\w\\\\w+\\\\b', tokenizer=None, use_idf=1,\n",
       "        vocabulary=None)"
      ]
     },
     "execution_count": 36,
     "metadata": {},
     "output_type": "execute_result"
    }
   ],
   "source": [
    "from sklearn.feature_extraction.text import TfidfVectorizer as TFIV\n",
    "# 初始化TFIV对象，再去英语停用词，加2元语言模型http://blog.csdn.net/han_xiaoyang/article/details/50629608\n",
    "tfv = TFIV(min_df=3, max_features=None, ngram_range=(1, 2), use_idf=1, smooth_idf=1, sublinear_tf=1, stop_words = 'english')\n",
    "\n",
    "tfv.fit(X_all)"
   ]
  },
  {
   "cell_type": "code",
   "execution_count": 38,
   "metadata": {
    "collapsed": true
   },
   "outputs": [],
   "source": [
    "X = tfv.transform(X_all)"
   ]
  },
  {
   "cell_type": "code",
   "execution_count": 39,
   "metadata": {},
   "outputs": [
    {
     "data": {
      "text/plain": [
       "<15081x16146 sparse matrix of type '<class 'numpy.float64'>'\n",
       "\twith 198575 stored elements in Compressed Sparse Row format>"
      ]
     },
     "execution_count": 39,
     "metadata": {},
     "output_type": "execute_result"
    }
   ],
   "source": [
    "X"
   ]
  },
  {
   "cell_type": "code",
   "execution_count": 40,
   "metadata": {
    "collapsed": true
   },
   "outputs": [],
   "source": [
    "y = train_val['tag']"
   ]
  },
  {
   "cell_type": "code",
   "execution_count": 43,
   "metadata": {
    "collapsed": true
   },
   "outputs": [],
   "source": [
    "from sklearn.model_selection import train_test_split\n",
    "X_train, X_val, y_train, y_val = train_test_split(X, y, random_state=1234)"
   ]
  },
  {
   "cell_type": "code",
   "execution_count": 45,
   "metadata": {},
   "outputs": [
    {
     "name": "stdout",
     "output_type": "stream",
     "text": [
      "多项式贝叶斯分类器20折交叉验证得分:  0.661586237719\n"
     ]
    }
   ],
   "source": [
    "# 多项式朴素贝叶斯\n",
    "from sklearn.naive_bayes import MultinomialNB as MNB\n",
    "\n",
    "model_NB = MNB()\n",
    "model_NB.fit(X_train, y_train) \n",
    "MNB(alpha=1.0, class_prior=None, fit_prior=True)\n",
    "\n",
    "from sklearn.cross_validation import cross_val_score\n",
    "print(\"多项式贝叶斯分类器20折交叉验证得分: \", np.mean(cross_val_score(model_NB, X_train, y_train, cv=20, scoring='roc_auc')))\n",
    "# 多项式贝叶斯分类器20折交叉验证得分: 0.950837239"
   ]
  },
  {
   "cell_type": "markdown",
   "metadata": {},
   "source": [
    "### 得分低，表明模型不够general"
   ]
  },
  {
   "cell_type": "code",
   "execution_count": 53,
   "metadata": {},
   "outputs": [
    {
     "name": "stdout",
     "output_type": "stream",
     "text": [
      "0.968443383718\n",
      "[[   0  119]\n",
      " [   0 3652]]\n",
      "             precision    recall  f1-score   support\n",
      "\n",
      "        0.0       0.00      0.00      0.00       119\n",
      "        1.0       0.97      1.00      0.98      3652\n",
      "\n",
      "avg / total       0.94      0.97      0.95      3771\n",
      "\n"
     ]
    },
    {
     "name": "stderr",
     "output_type": "stream",
     "text": [
      "/opt/conda/lib/python3.5/site-packages/sklearn/metrics/classification.py:1113: UndefinedMetricWarning: Precision and F-score are ill-defined and being set to 0.0 in labels with no predicted samples.\n",
      "  'precision', 'predicted', average, warn_for)\n"
     ]
    }
   ],
   "source": [
    "# test the model on the testing set, and check the accuracy\n",
    "\n",
    "from sklearn import metrics\n",
    "y_pred = model_NB.predict(X_val)\n",
    "print(metrics.accuracy_score(y_val, y_pred))\n",
    "print(metrics.confusion_matrix(y_val, y_pred))\n",
    "print(metrics.classification_report(y_val, y_pred))"
   ]
  },
  {
   "cell_type": "markdown",
   "metadata": {},
   "source": [
    "## 没有预测任何差评？\n",
    "- 在预测差评方面表现不好，可能原因是数据中差评的量相对太少，样本是高度bias。\n",
    "  - 数据出现这种情况是因为取的是排名前250的影片评价 --> 评价高<br>\n",
    "- 在这种数据情况下，我怀疑选更fancy的模型的作用不会很大<br>\n",
    "- 可以进一步尝试\n",
    "  - 不分validation data，数据全部用于训练，evaluation用CV\n",
    "  - downsampling或upsampling\n",
    "  - ……"
   ]
  }
 ],
 "metadata": {
  "kernelspec": {
   "display_name": "Python 3",
   "language": "python",
   "name": "python3"
  },
  "language_info": {
   "codemirror_mode": {
    "name": "ipython",
    "version": 3
   },
   "file_extension": ".py",
   "mimetype": "text/x-python",
   "name": "python",
   "nbconvert_exporter": "python",
   "pygments_lexer": "ipython3",
   "version": "3.6.3"
  }
 },
 "nbformat": 4,
 "nbformat_minor": 2
}
