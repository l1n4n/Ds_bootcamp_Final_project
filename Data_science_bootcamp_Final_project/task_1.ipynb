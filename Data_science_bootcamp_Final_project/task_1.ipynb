{
 "cells": [
  {
   "cell_type": "markdown",
   "metadata": {},
   "source": [
    "# Task 1\n",
    "爬取豆瓣 Top250 or 最新电影(例如战狼 2、敦刻尔克、蜘蛛侠、银魂)的短评数据，保证抓取尽量完整\n"
   ]
  },
  {
   "cell_type": "code",
   "execution_count": 1,
   "metadata": {
    "collapsed": true
   },
   "outputs": [],
   "source": [
    "import requests \n",
    "import time\n",
    "from lxml import etree\n",
    "import sys\n",
    "from PIL import Image \n",
    "import os\n",
    "from io import BytesIO"
   ]
  },
  {
   "cell_type": "code",
   "execution_count": 2,
   "metadata": {
    "collapsed": true
   },
   "outputs": [],
   "source": [
    "headers = {'User-Agent':'Mozilla/5.0'}"
   ]
  },
  {
   "cell_type": "code",
   "execution_count": 3,
   "metadata": {},
   "outputs": [
    {
     "data": {
      "text/plain": [
       "200"
      ]
     },
     "execution_count": 3,
     "metadata": {},
     "output_type": "execute_result"
    }
   ],
   "source": [
    "session = requests.session() #Provides cookie persistence, connection-pooling, and configuration.\n",
    "login_r = session.get('https://www.douban.com/login', headers=headers)\n",
    "#检查登陆状态\n",
    "login_r.status_code"
   ]
  },
  {
   "cell_type": "code",
   "execution_count": 4,
   "metadata": {},
   "outputs": [
    {
     "data": {
      "text/plain": [
       "'utf-8'"
      ]
     },
     "execution_count": 4,
     "metadata": {},
     "output_type": "execute_result"
    }
   ],
   "source": [
    "#check编码\n",
    "login_r.encoding"
   ]
  },
  {
   "cell_type": "code",
   "execution_count": 5,
   "metadata": {
    "collapsed": true
   },
   "outputs": [],
   "source": [
    "#define对象\n",
    "s = etree.HTML(login_r.content) "
   ]
  },
  {
   "cell_type": "code",
   "execution_count": 6,
   "metadata": {
    "collapsed": true
   },
   "outputs": [],
   "source": [
    "post_data = {'source':'None', \n",
    "             'redir':'https://www.douban.com', \n",
    "             'form_email':'1156906182@qq.com', \n",
    "             'form_password':'WCXJ8679!', \n",
    "             'login':'登录'}\n",
    "# get verification image url\n",
    "captcha_img_url=s.xpath('//img[@id=\"captcha_image\"]/@src')\n",
    "import matplotlib.pyplot as plt\n",
    "if captcha_img_url:\n",
    "    pic_request = requests.get(captcha_img_url[0])\n",
    "    img = Image.open(BytesIO(pic_request.content))  \n",
    "    print('请输入你看到的字母:')\n",
    "    plt.figure('code')\n",
    "    plt.imshow(img)\n",
    "    plt.show()\n",
    "    string = input('请输入验证码：')\n",
    "    # save image letter into captcha-solution\n",
    "    post_data['captcha-solution'] = string\n",
    "    captcha_id = s.xpath('//input[@name=\"captcha-id\"]/@value')\n",
    "    post_data['captcha-id'] = captcha_id[0]\n",
    "\n",
    "# login using finalized post info\n",
    "r = session.post('https://accounts.douban.com/login', data = post_data)"
   ]
  },
  {
   "cell_type": "code",
   "execution_count": 7,
   "metadata": {},
   "outputs": [
    {
     "data": {
      "text/plain": [
       "200"
      ]
     },
     "execution_count": 7,
     "metadata": {},
     "output_type": "execute_result"
    }
   ],
   "source": [
    "url = \"https://movie.douban.com\"\n",
    "#用session访问\n",
    "test = session.get(url, headers=headers)\n",
    "test.status_code #检查访问状态"
   ]
  },
  {
   "cell_type": "code",
   "execution_count": 8,
   "metadata": {},
   "outputs": [
    {
     "name": "stdout",
     "output_type": "stream",
     "text": [
      "https://movie.douban.com/top250?start=0&filter=\n",
      "https://movie.douban.com/top250?start=25&filter=\n",
      "https://movie.douban.com/top250?start=50&filter=\n",
      "https://movie.douban.com/top250?start=75&filter=\n",
      "https://movie.douban.com/top250?start=100&filter=\n",
      "https://movie.douban.com/top250?start=125&filter=\n",
      "https://movie.douban.com/top250?start=150&filter=\n",
      "https://movie.douban.com/top250?start=175&filter=\n",
      "https://movie.douban.com/top250?start=200&filter=\n",
      "https://movie.douban.com/top250?start=225&filter=\n"
     ]
    }
   ],
   "source": [
    "#拼出多页url\n",
    "html = ' '\n",
    "for i in range(10):\n",
    "    url = 'https://movie.douban.com/top250?start='+ str(i*25) + '&filter='\n",
    "    print(url)\n",
    "    page = session.get(url, headers=headers) #用session登陆状态访问\n",
    "    html += page.text\n",
    "time.sleep(2)"
   ]
  },
  {
   "cell_type": "code",
   "execution_count": 9,
   "metadata": {},
   "outputs": [
    {
     "name": "stdout",
     "output_type": "stream",
     "text": [
      " <!DOCTYPE html>\n",
      "<html lang=\"zh-cmn-Hans\" class=\"\">\n",
      "<head>\n",
      "    <meta http-equiv=\"Content-Type\" content=\"text/html; charset=utf-8\">\n",
      "    <meta name=\"renderer\" content=\"webkit\">\n",
      "    <meta name=\"referrer\" content=\"always\">\n",
      "    <title>\n",
      "豆瓣电影 Top 250\n",
      "</title>\n",
      "    \n",
      "    <meta name=\"baidu-site-verification\" content=\"cZdR4xxR7RxmM4zE\" />\n",
      "    <meta http-equiv=\"Pragma\" content=\"no-cache\">\n",
      "    <meta http-equiv=\"Expires\" content=\"Sun, 6 Mar 2005 01:00:00 GMT\">\n",
      "    \n",
      "    <link rel=\"apple-touch-icon\" href=\"https://img3.doubanio.com/f/movie/d59b2715fdea4968a450ee5f6c95c7d7a2030065/pics/movie/apple-touch-icon.png\">\n",
      "    <link href=\"https://img3.doubanio.com/f/shire/420c6a4b676c73bc6af48dfcdd18b662f5c223d7/css/douban.css\" rel=\"stylesheet\" type=\"text/css\">\n",
      "    <link href=\"https://img3.doubanio.com/f/shire/ae3f5a3e3085968370b1fc63afcecb22d3284848/css/separation/_all.css\" rel=\"stylesheet\" type=\"text/css\">\n",
      "    <link href=\"https://img3.doubanio.com/f/movie/8864d3756094f5272d3c93e30ee2e324665855b0/css/movie/base/\n"
     ]
    }
   ],
   "source": [
    "print(html[:1000])"
   ]
  },
  {
   "cell_type": "code",
   "execution_count": 10,
   "metadata": {
    "collapsed": true
   },
   "outputs": [],
   "source": [
    "s = etree.HTML(html)\n",
    "movies = s.xpath('//*[@class=\"hd\"]')"
   ]
  },
  {
   "cell_type": "code",
   "execution_count": 11,
   "metadata": {},
   "outputs": [
    {
     "data": {
      "text/plain": [
       "250"
      ]
     },
     "execution_count": 11,
     "metadata": {},
     "output_type": "execute_result"
    }
   ],
   "source": [
    "len(movies)"
   ]
  },
  {
   "cell_type": "code",
   "execution_count": 12,
   "metadata": {
    "collapsed": true
   },
   "outputs": [],
   "source": [
    "titles = []\n",
    "movie_urls = []\n",
    "\n",
    "for movie in movies:\n",
    "    title = movie.xpath('.//a/span[1]/text()')[0]\n",
    "    url = movie.xpath('.//a/@href')[0]\n",
    "    #print(title)\n",
    "    #print(url)\n",
    "    titles.append(title)\n",
    "    movie_urls.append(url)"
   ]
  },
  {
   "cell_type": "code",
   "execution_count": 13,
   "metadata": {},
   "outputs": [
    {
     "data": {
      "text/html": [
       "<div>\n",
       "<table border=\"1\" class=\"dataframe\">\n",
       "  <thead>\n",
       "    <tr style=\"text-align: right;\">\n",
       "      <th></th>\n",
       "      <th>0</th>\n",
       "      <th>1</th>\n",
       "    </tr>\n",
       "  </thead>\n",
       "  <tbody>\n",
       "    <tr>\n",
       "      <th>0</th>\n",
       "      <td>肖申克的救赎</td>\n",
       "      <td>https://movie.douban.com/subject/1292052/</td>\n",
       "    </tr>\n",
       "    <tr>\n",
       "      <th>1</th>\n",
       "      <td>霸王别姬</td>\n",
       "      <td>https://movie.douban.com/subject/1291546/</td>\n",
       "    </tr>\n",
       "    <tr>\n",
       "      <th>2</th>\n",
       "      <td>这个杀手不太冷</td>\n",
       "      <td>https://movie.douban.com/subject/1295644/</td>\n",
       "    </tr>\n",
       "    <tr>\n",
       "      <th>3</th>\n",
       "      <td>阿甘正传</td>\n",
       "      <td>https://movie.douban.com/subject/1292720/</td>\n",
       "    </tr>\n",
       "    <tr>\n",
       "      <th>4</th>\n",
       "      <td>美丽人生</td>\n",
       "      <td>https://movie.douban.com/subject/1292063/</td>\n",
       "    </tr>\n",
       "  </tbody>\n",
       "</table>\n",
       "</div>"
      ],
      "text/plain": [
       "         0                                          1\n",
       "0   肖申克的救赎  https://movie.douban.com/subject/1292052/\n",
       "1     霸王别姬  https://movie.douban.com/subject/1291546/\n",
       "2  这个杀手不太冷  https://movie.douban.com/subject/1295644/\n",
       "3     阿甘正传  https://movie.douban.com/subject/1292720/\n",
       "4     美丽人生  https://movie.douban.com/subject/1292063/"
      ]
     },
     "execution_count": 13,
     "metadata": {},
     "output_type": "execute_result"
    }
   ],
   "source": [
    "import pandas as pd\n",
    "df = pd.DataFrame(list(zip(titles, movie_urls)))\n",
    "df.head()"
   ]
  },
  {
   "cell_type": "code",
   "execution_count": 14,
   "metadata": {
    "collapsed": true
   },
   "outputs": [],
   "source": [
    "# 目标：每个电影有一个comment page url list，共250个list构成cmt_urls\n",
    "cmt_urls = []\n",
    "for url in movie_urls:\n",
    "    links = []\n",
    "    # 每部影片抓取10页短评\n",
    "    for i in range(10):\n",
    "        link = url + 'comments?start=' + str(i*20) + '&limit=20&sort=new_score&status=P&percent_type='\n",
    "        links.append(link)\n",
    "    cmt_urls.append(links) \n",
    "    "
   ]
  },
  {
   "cell_type": "code",
   "execution_count": 15,
   "metadata": {},
   "outputs": [
    {
     "data": {
      "text/plain": [
       "['https://movie.douban.com/subject/1292052/comments?start=0&limit=20&sort=new_score&status=P&percent_type=',\n",
       " 'https://movie.douban.com/subject/1292052/comments?start=20&limit=20&sort=new_score&status=P&percent_type=',\n",
       " 'https://movie.douban.com/subject/1292052/comments?start=40&limit=20&sort=new_score&status=P&percent_type=',\n",
       " 'https://movie.douban.com/subject/1292052/comments?start=60&limit=20&sort=new_score&status=P&percent_type=',\n",
       " 'https://movie.douban.com/subject/1292052/comments?start=80&limit=20&sort=new_score&status=P&percent_type=',\n",
       " 'https://movie.douban.com/subject/1292052/comments?start=100&limit=20&sort=new_score&status=P&percent_type=',\n",
       " 'https://movie.douban.com/subject/1292052/comments?start=120&limit=20&sort=new_score&status=P&percent_type=',\n",
       " 'https://movie.douban.com/subject/1292052/comments?start=140&limit=20&sort=new_score&status=P&percent_type=',\n",
       " 'https://movie.douban.com/subject/1292052/comments?start=160&limit=20&sort=new_score&status=P&percent_type=',\n",
       " 'https://movie.douban.com/subject/1292052/comments?start=180&limit=20&sort=new_score&status=P&percent_type=']"
      ]
     },
     "execution_count": 15,
     "metadata": {},
     "output_type": "execute_result"
    }
   ],
   "source": [
    "df['links'] = cmt_urls\n",
    "df.loc[0, 'links']"
   ]
  },
  {
   "cell_type": "code",
   "execution_count": 16,
   "metadata": {},
   "outputs": [
    {
     "data": {
      "text/plain": [
       "250"
      ]
     },
     "execution_count": 16,
     "metadata": {},
     "output_type": "execute_result"
    }
   ],
   "source": [
    "len(cmt_urls)"
   ]
  },
  {
   "cell_type": "code",
   "execution_count": 18,
   "metadata": {
    "collapsed": true
   },
   "outputs": [],
   "source": [
    "all_comments = ''\n",
    "for links in cmt_urls:\n",
    "    for link in links:\n",
    "        content = session.get(link, headers=headers, proxies={\"http\":\"http://163.177.151.162:80\"}) \n",
    "        all_comments += content.text\n",
    "        time.sleep(1.5)\n",
    "    time.sleep(2)"
   ]
  },
  {
   "cell_type": "code",
   "execution_count": 19,
   "metadata": {
    "collapsed": true
   },
   "outputs": [],
   "source": [
    "#利用lxml进行评论数据提取\n",
    "selector = etree.HTML(all_comments)\n",
    "comment_list = selector.xpath('//div[@class=\"comment-item\"]')"
   ]
  },
  {
   "cell_type": "code",
   "execution_count": 20,
   "metadata": {
    "collapsed": true
   },
   "outputs": [],
   "source": [
    "#创建lists来保存评论信息\n",
    "user_l = []\n",
    "rating_l = []\n",
    "user_comment_l = []\n",
    "comment_time_l = []"
   ]
  },
  {
   "cell_type": "code",
   "execution_count": 22,
   "metadata": {
    "collapsed": true
   },
   "outputs": [],
   "source": [
    "#loop评论 保存每个评论的信息\n",
    "for comment in comment_list:\n",
    "    user = comment.xpath('.//span[@class=\"comment-info\"]/a/text()')[0]\n",
    "    rating = comment.xpath('.//span[@class=\"comment-info\"]/span[2]/@class')[0][7:8]\n",
    "    user_coomment = comment.xpath('.//div[@class=\"comment\"]/p/text()')[0].strip()\n",
    "    comment_time = comment.xpath('.//div[@class=\"comment\"]/h3//span[@class=\"comment-time \"]/text()')[0].strip()\n",
    "\n",
    "    user_l.append(user)\n",
    "    rating_l.append(rating)\n",
    "    user_comment_l.append(user_coomment)\n",
    "    comment_time_l.append(comment_time)"
   ]
  },
  {
   "cell_type": "code",
   "execution_count": 23,
   "metadata": {},
   "outputs": [
    {
     "data": {
      "text/html": [
       "<div>\n",
       "<table border=\"1\" class=\"dataframe\">\n",
       "  <thead>\n",
       "    <tr style=\"text-align: right;\">\n",
       "      <th></th>\n",
       "      <th>0</th>\n",
       "      <th>1</th>\n",
       "      <th>2</th>\n",
       "      <th>3</th>\n",
       "    </tr>\n",
       "  </thead>\n",
       "  <tbody>\n",
       "    <tr>\n",
       "      <th>0</th>\n",
       "      <td>kingfish</td>\n",
       "      <td>5</td>\n",
       "      <td>不需要女主角的好电影</td>\n",
       "      <td>2006-03-22</td>\n",
       "    </tr>\n",
       "    <tr>\n",
       "      <th>1</th>\n",
       "      <td>犀牛</td>\n",
       "      <td>5</td>\n",
       "      <td>当年的奥斯卡颁奖礼上，被如日中天的《阿甘正传》掩盖了它的光彩，而随着时间的推移，这部电影在越...</td>\n",
       "      <td>2005-10-28</td>\n",
       "    </tr>\n",
       "    <tr>\n",
       "      <th>2</th>\n",
       "      <td>711|湯好运</td>\n",
       "      <td>5</td>\n",
       "      <td>策划了19年的私奔……</td>\n",
       "      <td>2010-03-27</td>\n",
       "    </tr>\n",
       "    <tr>\n",
       "      <th>3</th>\n",
       "      <td>Eve|Classified</td>\n",
       "      <td>5</td>\n",
       "      <td>“这是一部男人必看的电影。”人人都这么说。但单纯从性别区分，就会让这电影变狭隘。《肖申克的救...</td>\n",
       "      <td>2008-05-09</td>\n",
       "    </tr>\n",
       "    <tr>\n",
       "      <th>4</th>\n",
       "      <td>艾小柯</td>\n",
       "      <td>5</td>\n",
       "      <td>关于希望最强有力的注释。</td>\n",
       "      <td>2006-06-20</td>\n",
       "    </tr>\n",
       "  </tbody>\n",
       "</table>\n",
       "</div>"
      ],
      "text/plain": [
       "                0  1                                                  2  \\\n",
       "0        kingfish  5                                         不需要女主角的好电影   \n",
       "1              犀牛  5  当年的奥斯卡颁奖礼上，被如日中天的《阿甘正传》掩盖了它的光彩，而随着时间的推移，这部电影在越...   \n",
       "2         711|湯好运  5                                        策划了19年的私奔……   \n",
       "3  Eve|Classified  5  “这是一部男人必看的电影。”人人都这么说。但单纯从性别区分，就会让这电影变狭隘。《肖申克的救...   \n",
       "4             艾小柯  5                                       关于希望最强有力的注释。   \n",
       "\n",
       "            3  \n",
       "0  2006-03-22  \n",
       "1  2005-10-28  \n",
       "2  2010-03-27  \n",
       "3  2008-05-09  \n",
       "4  2006-06-20  "
      ]
     },
     "execution_count": 23,
     "metadata": {},
     "output_type": "execute_result"
    }
   ],
   "source": [
    "cmt_df = pd.DataFrame(list(zip(user_l, rating_l, user_comment_l, comment_time_l)))\n",
    "cmt_df.head()"
   ]
  },
  {
   "cell_type": "code",
   "execution_count": 24,
   "metadata": {},
   "outputs": [
    {
     "data": {
      "text/plain": [
       "(17100, 4)"
      ]
     },
     "execution_count": 24,
     "metadata": {},
     "output_type": "execute_result"
    }
   ],
   "source": [
    "cmt_df.shape"
   ]
  },
  {
   "cell_type": "code",
   "execution_count": 25,
   "metadata": {
    "collapsed": true
   },
   "outputs": [],
   "source": [
    "cmt_df.to_csv('./data/cmt_data.csv')"
   ]
  },
  {
   "cell_type": "code",
   "execution_count": 70,
   "metadata": {
    "collapsed": true
   },
   "outputs": [],
   "source": [
    "df = pd.read_csv('./data/cmt_data.csv',lineterminator='\\n')"
   ]
  },
  {
   "cell_type": "code",
   "execution_count": 71,
   "metadata": {},
   "outputs": [
    {
     "data": {
      "text/html": [
       "<div>\n",
       "<table border=\"1\" class=\"dataframe\">\n",
       "  <thead>\n",
       "    <tr style=\"text-align: right;\">\n",
       "      <th></th>\n",
       "      <th>Unnamed: 0</th>\n",
       "      <th>0</th>\n",
       "      <th>1</th>\n",
       "      <th>2</th>\n",
       "      <th>3</th>\n",
       "    </tr>\n",
       "  </thead>\n",
       "  <tbody>\n",
       "    <tr>\n",
       "      <th>0</th>\n",
       "      <td>0</td>\n",
       "      <td>kingfish</td>\n",
       "      <td>5</td>\n",
       "      <td>不需要女主角的好电影</td>\n",
       "      <td>2006-03-22</td>\n",
       "    </tr>\n",
       "    <tr>\n",
       "      <th>1</th>\n",
       "      <td>1</td>\n",
       "      <td>犀牛</td>\n",
       "      <td>5</td>\n",
       "      <td>当年的奥斯卡颁奖礼上，被如日中天的《阿甘正传》掩盖了它的光彩，而随着时间的推移，这部电影在越...</td>\n",
       "      <td>2005-10-28</td>\n",
       "    </tr>\n",
       "    <tr>\n",
       "      <th>2</th>\n",
       "      <td>2</td>\n",
       "      <td>711|湯好运</td>\n",
       "      <td>5</td>\n",
       "      <td>策划了19年的私奔……</td>\n",
       "      <td>2010-03-27</td>\n",
       "    </tr>\n",
       "    <tr>\n",
       "      <th>3</th>\n",
       "      <td>3</td>\n",
       "      <td>Eve|Classified</td>\n",
       "      <td>5</td>\n",
       "      <td>“这是一部男人必看的电影。”人人都这么说。但单纯从性别区分，就会让这电影变狭隘。《肖申克的救...</td>\n",
       "      <td>2008-05-09</td>\n",
       "    </tr>\n",
       "    <tr>\n",
       "      <th>4</th>\n",
       "      <td>4</td>\n",
       "      <td>艾小柯</td>\n",
       "      <td>5</td>\n",
       "      <td>关于希望最强有力的注释。</td>\n",
       "      <td>2006-06-20</td>\n",
       "    </tr>\n",
       "  </tbody>\n",
       "</table>\n",
       "</div>"
      ],
      "text/plain": [
       "   Unnamed: 0               0  1  \\\n",
       "0           0        kingfish  5   \n",
       "1           1              犀牛  5   \n",
       "2           2         711|湯好运  5   \n",
       "3           3  Eve|Classified  5   \n",
       "4           4             艾小柯  5   \n",
       "\n",
       "                                                   2           3  \n",
       "0                                         不需要女主角的好电影  2006-03-22  \n",
       "1  当年的奥斯卡颁奖礼上，被如日中天的《阿甘正传》掩盖了它的光彩，而随着时间的推移，这部电影在越...  2005-10-28  \n",
       "2                                        策划了19年的私奔……  2010-03-27  \n",
       "3  “这是一部男人必看的电影。”人人都这么说。但单纯从性别区分，就会让这电影变狭隘。《肖申克的救...  2008-05-09  \n",
       "4                                       关于希望最强有力的注释。  2006-06-20  "
      ]
     },
     "execution_count": 71,
     "metadata": {},
     "output_type": "execute_result"
    }
   ],
   "source": [
    "df.head()"
   ]
  },
  {
   "cell_type": "code",
   "execution_count": 72,
   "metadata": {
    "collapsed": true
   },
   "outputs": [],
   "source": [
    "df.drop(['Unnamed: 0'], axis=1, inplace=True)"
   ]
  },
  {
   "cell_type": "code",
   "execution_count": 74,
   "metadata": {
    "collapsed": true
   },
   "outputs": [],
   "source": [
    "df.columns = ['user', 'star', 'comment', 'time']"
   ]
  },
  {
   "cell_type": "code",
   "execution_count": 75,
   "metadata": {},
   "outputs": [
    {
     "data": {
      "text/html": [
       "<div>\n",
       "<table border=\"1\" class=\"dataframe\">\n",
       "  <thead>\n",
       "    <tr style=\"text-align: right;\">\n",
       "      <th></th>\n",
       "      <th>user</th>\n",
       "      <th>star</th>\n",
       "      <th>comment</th>\n",
       "      <th>time</th>\n",
       "    </tr>\n",
       "  </thead>\n",
       "  <tbody>\n",
       "    <tr>\n",
       "      <th>0</th>\n",
       "      <td>kingfish</td>\n",
       "      <td>5</td>\n",
       "      <td>不需要女主角的好电影</td>\n",
       "      <td>2006-03-22</td>\n",
       "    </tr>\n",
       "    <tr>\n",
       "      <th>1</th>\n",
       "      <td>犀牛</td>\n",
       "      <td>5</td>\n",
       "      <td>当年的奥斯卡颁奖礼上，被如日中天的《阿甘正传》掩盖了它的光彩，而随着时间的推移，这部电影在越...</td>\n",
       "      <td>2005-10-28</td>\n",
       "    </tr>\n",
       "    <tr>\n",
       "      <th>2</th>\n",
       "      <td>711|湯好运</td>\n",
       "      <td>5</td>\n",
       "      <td>策划了19年的私奔……</td>\n",
       "      <td>2010-03-27</td>\n",
       "    </tr>\n",
       "    <tr>\n",
       "      <th>3</th>\n",
       "      <td>Eve|Classified</td>\n",
       "      <td>5</td>\n",
       "      <td>“这是一部男人必看的电影。”人人都这么说。但单纯从性别区分，就会让这电影变狭隘。《肖申克的救...</td>\n",
       "      <td>2008-05-09</td>\n",
       "    </tr>\n",
       "    <tr>\n",
       "      <th>4</th>\n",
       "      <td>艾小柯</td>\n",
       "      <td>5</td>\n",
       "      <td>关于希望最强有力的注释。</td>\n",
       "      <td>2006-06-20</td>\n",
       "    </tr>\n",
       "  </tbody>\n",
       "</table>\n",
       "</div>"
      ],
      "text/plain": [
       "             user star                                            comment  \\\n",
       "0        kingfish    5                                         不需要女主角的好电影   \n",
       "1              犀牛    5  当年的奥斯卡颁奖礼上，被如日中天的《阿甘正传》掩盖了它的光彩，而随着时间的推移，这部电影在越...   \n",
       "2         711|湯好运    5                                        策划了19年的私奔……   \n",
       "3  Eve|Classified    5  “这是一部男人必看的电影。”人人都这么说。但单纯从性别区分，就会让这电影变狭隘。《肖申克的救...   \n",
       "4             艾小柯    5                                       关于希望最强有力的注释。   \n",
       "\n",
       "         time  \n",
       "0  2006-03-22  \n",
       "1  2005-10-28  \n",
       "2  2010-03-27  \n",
       "3  2008-05-09  \n",
       "4  2006-06-20  "
      ]
     },
     "execution_count": 75,
     "metadata": {},
     "output_type": "execute_result"
    }
   ],
   "source": [
    "df.head()"
   ]
  },
  {
   "cell_type": "code",
   "execution_count": 76,
   "metadata": {
    "collapsed": true
   },
   "outputs": [],
   "source": [
    "df.to_csv('./data/cmt_data1.csv', index=False)"
   ]
  },
  {
   "cell_type": "code",
   "execution_count": 77,
   "metadata": {},
   "outputs": [
    {
     "data": {
      "text/html": [
       "<div>\n",
       "<table border=\"1\" class=\"dataframe\">\n",
       "  <thead>\n",
       "    <tr style=\"text-align: right;\">\n",
       "      <th></th>\n",
       "      <th>user</th>\n",
       "      <th>star</th>\n",
       "      <th>comment</th>\n",
       "      <th>time</th>\n",
       "    </tr>\n",
       "  </thead>\n",
       "  <tbody>\n",
       "    <tr>\n",
       "      <th>0</th>\n",
       "      <td>kingfish</td>\n",
       "      <td>5</td>\n",
       "      <td>不需要女主角的好电影</td>\n",
       "      <td>2006-03-22</td>\n",
       "    </tr>\n",
       "    <tr>\n",
       "      <th>1</th>\n",
       "      <td>犀牛</td>\n",
       "      <td>5</td>\n",
       "      <td>当年的奥斯卡颁奖礼上，被如日中天的《阿甘正传》掩盖了它的光彩，而随着时间的推移，这部电影在越...</td>\n",
       "      <td>2005-10-28</td>\n",
       "    </tr>\n",
       "    <tr>\n",
       "      <th>2</th>\n",
       "      <td>711|湯好运</td>\n",
       "      <td>5</td>\n",
       "      <td>策划了19年的私奔……</td>\n",
       "      <td>2010-03-27</td>\n",
       "    </tr>\n",
       "    <tr>\n",
       "      <th>3</th>\n",
       "      <td>Eve|Classified</td>\n",
       "      <td>5</td>\n",
       "      <td>“这是一部男人必看的电影。”人人都这么说。但单纯从性别区分，就会让这电影变狭隘。《肖申克的救...</td>\n",
       "      <td>2008-05-09</td>\n",
       "    </tr>\n",
       "    <tr>\n",
       "      <th>4</th>\n",
       "      <td>艾小柯</td>\n",
       "      <td>5</td>\n",
       "      <td>关于希望最强有力的注释。</td>\n",
       "      <td>2006-06-20</td>\n",
       "    </tr>\n",
       "    <tr>\n",
       "      <th>5</th>\n",
       "      <td>[已注销]</td>\n",
       "      <td>5</td>\n",
       "      <td>有种鸟是关不住的.</td>\n",
       "      <td>2007-06-06</td>\n",
       "    </tr>\n",
       "    <tr>\n",
       "      <th>6</th>\n",
       "      <td>seawaver</td>\n",
       "      <td>5</td>\n",
       "      <td>忒经典的东西,我要带去我的坟墓</td>\n",
       "      <td>2007-08-29</td>\n",
       "    </tr>\n",
       "    <tr>\n",
       "      <th>7</th>\n",
       "      <td>寂地</td>\n",
       "      <td>5</td>\n",
       "      <td>超级喜欢超级喜欢,不看的话人生不圆满.</td>\n",
       "      <td>2006-01-02</td>\n",
       "    </tr>\n",
       "    <tr>\n",
       "      <th>8</th>\n",
       "      <td>独行狼</td>\n",
       "      <td>5</td>\n",
       "      <td>这无疑是我看得最多的一部经典,爱死</td>\n",
       "      <td>2006-02-11</td>\n",
       "    </tr>\n",
       "    <tr>\n",
       "      <th>9</th>\n",
       "      <td>九尾黑猫</td>\n",
       "      <td>2</td>\n",
       "      <td>真的不喜欢，不好看，没感觉</td>\n",
       "      <td>2008-03-19</td>\n",
       "    </tr>\n",
       "    <tr>\n",
       "      <th>10</th>\n",
       "      <td>文泽尔</td>\n",
       "      <td>4</td>\n",
       "      <td>人的生命不过是从一个洞穴通往另一个世界..然后在那个世界的雨中继续颤抖.i hope</td>\n",
       "      <td>2008-01-14</td>\n",
       "    </tr>\n",
       "    <tr>\n",
       "      <th>11</th>\n",
       "      <td>影志</td>\n",
       "      <td>5</td>\n",
       "      <td>Fear Can Hold You Prisoner, Hope Can Set You Free</td>\n",
       "      <td>2006-02-04</td>\n",
       "    </tr>\n",
       "    <tr>\n",
       "      <th>12</th>\n",
       "      <td>理想多钱一斤啊</td>\n",
       "      <td>4</td>\n",
       "      <td>Hope is a good thing, and maybe the best thing...</td>\n",
       "      <td>2009-10-07</td>\n",
       "    </tr>\n",
       "    <tr>\n",
       "      <th>13</th>\n",
       "      <td>安东妮</td>\n",
       "      <td>3</td>\n",
       "      <td>点在哪？浅白的励志片诶</td>\n",
       "      <td>2009-05-05</td>\n",
       "    </tr>\n",
       "    <tr>\n",
       "      <th>14</th>\n",
       "      <td>珍妮的肖像</td>\n",
       "      <td>5</td>\n",
       "      <td>没有人会不喜欢吧！书和电影都好。</td>\n",
       "      <td>2006-11-13</td>\n",
       "    </tr>\n",
       "    <tr>\n",
       "      <th>15</th>\n",
       "      <td>小易甫</td>\n",
       "      <td>3</td>\n",
       "      <td>在我的心目中,它一直都是最被高估的电影。</td>\n",
       "      <td>2008-06-08</td>\n",
       "    </tr>\n",
       "    <tr>\n",
       "      <th>16</th>\n",
       "      <td>眠去</td>\n",
       "      <td>5</td>\n",
       "      <td>hope is a good thing</td>\n",
       "      <td>2007-02-20</td>\n",
       "    </tr>\n",
       "    <tr>\n",
       "      <th>17</th>\n",
       "      <td>小耳朵图吗</td>\n",
       "      <td>5</td>\n",
       "      <td>越狱我感觉就是改编自这个</td>\n",
       "      <td>2007-08-21</td>\n",
       "    </tr>\n",
       "    <tr>\n",
       "      <th>18</th>\n",
       "      <td>sterdam</td>\n",
       "      <td>5</td>\n",
       "      <td>因为1994年台湾引进了一部比较卖座的老片The Sting，被错译成了《刺激》。到了199...</td>\n",
       "      <td>2005-10-08</td>\n",
       "    </tr>\n",
       "    <tr>\n",
       "      <th>19</th>\n",
       "      <td>叶荣添</td>\n",
       "      <td>2</td>\n",
       "      <td>大众经典我从不感冒，为什么？我欣赏水平不行？</td>\n",
       "      <td>2011-02-21</td>\n",
       "    </tr>\n",
       "    <tr>\n",
       "      <th>20</th>\n",
       "      <td>我不绝望</td>\n",
       "      <td>2</td>\n",
       "      <td>有那么好吗？？？？？</td>\n",
       "      <td>2006-10-05</td>\n",
       "    </tr>\n",
       "    <tr>\n",
       "      <th>21</th>\n",
       "      <td>veronique</td>\n",
       "      <td>5</td>\n",
       "      <td>一部没有爱情与美女的电影,却光芒四射</td>\n",
       "      <td>2006-06-15</td>\n",
       "    </tr>\n",
       "    <tr>\n",
       "      <th>22</th>\n",
       "      <td>葱</td>\n",
       "      <td>5</td>\n",
       "      <td>这样的男人谁会舍得背叛。。。</td>\n",
       "      <td>2012-05-28</td>\n",
       "    </tr>\n",
       "    <tr>\n",
       "      <th>23</th>\n",
       "      <td>毛利</td>\n",
       "      <td>5</td>\n",
       "      <td>看完让人很振奋</td>\n",
       "      <td>2006-11-21</td>\n",
       "    </tr>\n",
       "    <tr>\n",
       "      <th>24</th>\n",
       "      <td>游牧人·芳汀</td>\n",
       "      <td>4</td>\n",
       "      <td>墙里的人老是喊自由，可是墙外的我们真正得到了吗？</td>\n",
       "      <td>2010-10-06</td>\n",
       "    </tr>\n",
       "    <tr>\n",
       "      <th>25</th>\n",
       "      <td>老鸡｜扶立</td>\n",
       "      <td>5</td>\n",
       "      <td>我最喜欢的电影</td>\n",
       "      <td>2008-01-10</td>\n",
       "    </tr>\n",
       "    <tr>\n",
       "      <th>26</th>\n",
       "      <td>释凡</td>\n",
       "      <td>5</td>\n",
       "      <td>被誉为影史最棒，不管排名却肯定经典。缜密逃狱者，现代版《基督山恩仇记》，弗兰克·德拉邦叙事有...</td>\n",
       "      <td>2015-08-15</td>\n",
       "    </tr>\n",
       "    <tr>\n",
       "      <th>27</th>\n",
       "      <td>小海</td>\n",
       "      <td>5</td>\n",
       "      <td>这部电影没什么好说的，史上最完美的电影，没有一秒尿尿时间！</td>\n",
       "      <td>2010-01-28</td>\n",
       "    </tr>\n",
       "    <tr>\n",
       "      <th>28</th>\n",
       "      <td>乐安蓝</td>\n",
       "      <td>5</td>\n",
       "      <td>明修栈道，暗渡陈仓</td>\n",
       "      <td>2008-03-02</td>\n",
       "    </tr>\n",
       "    <tr>\n",
       "      <th>29</th>\n",
       "      <td>南笙</td>\n",
       "      <td>5</td>\n",
       "      <td>对不起，我戒酒了。</td>\n",
       "      <td>2012-01-06</td>\n",
       "    </tr>\n",
       "    <tr>\n",
       "      <th>...</th>\n",
       "      <td>...</td>\n",
       "      <td>...</td>\n",
       "      <td>...</td>\n",
       "      <td>...</td>\n",
       "    </tr>\n",
       "    <tr>\n",
       "      <th>17070</th>\n",
       "      <td>callusea</td>\n",
       "      <td>4</td>\n",
       "      <td>还不错</td>\n",
       "      <td>2012-05-23</td>\n",
       "    </tr>\n",
       "    <tr>\n",
       "      <th>17071</th>\n",
       "      <td>sherrylynn</td>\n",
       "      <td>5</td>\n",
       "      <td>很虐心</td>\n",
       "      <td>2012-05-23</td>\n",
       "    </tr>\n",
       "    <tr>\n",
       "      <th>17072</th>\n",
       "      <td>狗尾巴草</td>\n",
       "      <td>4</td>\n",
       "      <td>斯科塞斯非常忠于原著，电影中唠唠叨叨的解释性对话都来自原著，一字不易，只有部分幻想段落做出了...</td>\n",
       "      <td>2016-06-05</td>\n",
       "    </tr>\n",
       "    <tr>\n",
       "      <th>17073</th>\n",
       "      <td>A-sun*</td>\n",
       "      <td>4</td>\n",
       "      <td>你故意的。</td>\n",
       "      <td>2010-04-02</td>\n",
       "    </tr>\n",
       "    <tr>\n",
       "      <th>17074</th>\n",
       "      <td>奇爱博士</td>\n",
       "      <td>4</td>\n",
       "      <td>看大银幕真是幸福 通篇苦逼小李子 多看此类片人会变神经【电影资料馆】</td>\n",
       "      <td>2012-09-14</td>\n",
       "    </tr>\n",
       "    <tr>\n",
       "      <th>17075</th>\n",
       "      <td>黑天使</td>\n",
       "      <td>5</td>\n",
       "      <td>马丁你把我骗了</td>\n",
       "      <td>2012-01-19</td>\n",
       "    </tr>\n",
       "    <tr>\n",
       "      <th>17076</th>\n",
       "      <td>大侠很忙</td>\n",
       "      <td>3</td>\n",
       "      <td>别的不解读，3.5分，是一部精彩的悬疑剧</td>\n",
       "      <td>2017-02-10</td>\n",
       "    </tr>\n",
       "    <tr>\n",
       "      <th>17077</th>\n",
       "      <td>WAKEUPSTUPID</td>\n",
       "      <td>3</td>\n",
       "      <td>结构上的胜利,表达上的硬伤,老马丁借古喻今的痕迹太明显,太八股,,</td>\n",
       "      <td>2010-06-26</td>\n",
       "    </tr>\n",
       "    <tr>\n",
       "      <th>17078</th>\n",
       "      <td>后来呢</td>\n",
       "      <td>4</td>\n",
       "      <td>结局一分钟高能</td>\n",
       "      <td>2017-03-22</td>\n",
       "    </tr>\n",
       "    <tr>\n",
       "      <th>17079</th>\n",
       "      <td>红云彩</td>\n",
       "      <td>4</td>\n",
       "      <td>疯狂的小李子，节奏不错，大起大落，以后还是看点让人开心的吧。</td>\n",
       "      <td>2016-09-12</td>\n",
       "    </tr>\n",
       "    <tr>\n",
       "      <th>17080</th>\n",
       "      <td>麦子麦子酱</td>\n",
       "      <td>5</td>\n",
       "      <td>把自己逼疯的人最后到底选择去死还是接受手术变成行尸走肉那就见仁见智了，对这种开放式的结尾真是...</td>\n",
       "      <td>2012-02-02</td>\n",
       "    </tr>\n",
       "    <tr>\n",
       "      <th>17081</th>\n",
       "      <td>一米八五</td>\n",
       "      <td>5</td>\n",
       "      <td>看完之后浑身发凉~~到底应该怎么理解~~一种剧情两种结论诶~</td>\n",
       "      <td>2010-03-30</td>\n",
       "    </tr>\n",
       "    <tr>\n",
       "      <th>17082</th>\n",
       "      <td>七颗子弹</td>\n",
       "      <td>5</td>\n",
       "      <td>我是先知！\\r\\n第二遍看完，我又迷惑了。</td>\n",
       "      <td>2010-03-21</td>\n",
       "    </tr>\n",
       "    <tr>\n",
       "      <th>17083</th>\n",
       "      <td>竹叶卷心</td>\n",
       "      <td>5</td>\n",
       "      <td>结尾我到没有什么别的猜测，因为后来也去看了原著，男主的确在被治疗我觉得更说得通。更让我有感触...</td>\n",
       "      <td>2016-08-24</td>\n",
       "    </tr>\n",
       "    <tr>\n",
       "      <th>17084</th>\n",
       "      <td>Moe Szyslak</td>\n",
       "      <td>4</td>\n",
       "      <td>由于以前看过小岛惊魂，看到一半就猜出结局了。</td>\n",
       "      <td>2010-11-25</td>\n",
       "    </tr>\n",
       "    <tr>\n",
       "      <th>17085</th>\n",
       "      <td>Sammy</td>\n",
       "      <td>4</td>\n",
       "      <td>结局很棒。</td>\n",
       "      <td>2011-03-03</td>\n",
       "    </tr>\n",
       "    <tr>\n",
       "      <th>17086</th>\n",
       "      <td>王天君</td>\n",
       "      <td>5</td>\n",
       "      <td>思前想后，还是五星算了。</td>\n",
       "      <td>2010-12-21</td>\n",
       "    </tr>\n",
       "    <tr>\n",
       "      <th>17087</th>\n",
       "      <td>twopersons</td>\n",
       "      <td>3</td>\n",
       "      <td>抄袭。那段音乐还行才没沦为较差一类的档次。</td>\n",
       "      <td>2010-08-22</td>\n",
       "    </tr>\n",
       "    <tr>\n",
       "      <th>17088</th>\n",
       "      <td>呵呵</td>\n",
       "      <td>5</td>\n",
       "      <td>Shutter.Island.2010.BDRip.XviD-iMBT</td>\n",
       "      <td>2010-05-28</td>\n",
       "    </tr>\n",
       "    <tr>\n",
       "      <th>17089</th>\n",
       "      <td>eklim</td>\n",
       "      <td>4</td>\n",
       "      <td>像怪物一样活着 像好人一样死去</td>\n",
       "      <td>2010-07-30</td>\n",
       "    </tr>\n",
       "    <tr>\n",
       "      <th>17090</th>\n",
       "      <td>弥赛亚代言人</td>\n",
       "      <td>5</td>\n",
       "      <td>大师作品，真不是盖的</td>\n",
       "      <td>2011-08-29</td>\n",
       "    </tr>\n",
       "    <tr>\n",
       "      <th>17091</th>\n",
       "      <td>大瘦瘦</td>\n",
       "      <td>4</td>\n",
       "      <td>结局还是比原著弱，不过迷幻的味道能够出来已经值得一赞</td>\n",
       "      <td>2010-04-02</td>\n",
       "    </tr>\n",
       "    <tr>\n",
       "      <th>17092</th>\n",
       "      <td>MegaMind</td>\n",
       "      <td>4</td>\n",
       "      <td>又老了1岁。</td>\n",
       "      <td>2010-03-25</td>\n",
       "    </tr>\n",
       "    <tr>\n",
       "      <th>17093</th>\n",
       "      <td>刘小当</td>\n",
       "      <td>5</td>\n",
       "      <td>【四星半】至此，我方才惊觉我还真的有那么点“Jack情结”。本来以为自己很早就猜到了结局，但...</td>\n",
       "      <td>2010-03-20</td>\n",
       "    </tr>\n",
       "    <tr>\n",
       "      <th>17094</th>\n",
       "      <td>Vini_Kazma</td>\n",
       "      <td>4</td>\n",
       "      <td>现实与梦扑朔迷离，人格分裂，结尾很暧昧。</td>\n",
       "      <td>2012-09-22</td>\n",
       "    </tr>\n",
       "    <tr>\n",
       "      <th>17095</th>\n",
       "      <td>我还是我</td>\n",
       "      <td>3</td>\n",
       "      <td>x</td>\n",
       "      <td>2011-08-04</td>\n",
       "    </tr>\n",
       "    <tr>\n",
       "      <th>17096</th>\n",
       "      <td>Dora KID.</td>\n",
       "      <td>5</td>\n",
       "      <td>结局犀利。</td>\n",
       "      <td>2010-06-19</td>\n",
       "    </tr>\n",
       "    <tr>\n",
       "      <th>17097</th>\n",
       "      <td>王神爱</td>\n",
       "      <td>5</td>\n",
       "      <td>肥莱。</td>\n",
       "      <td>2010-04-24</td>\n",
       "    </tr>\n",
       "    <tr>\n",
       "      <th>17098</th>\n",
       "      <td>ᴟoi&amp;ioᴇ</td>\n",
       "      <td>4</td>\n",
       "      <td>真绕</td>\n",
       "      <td>2010-11-12</td>\n",
       "    </tr>\n",
       "    <tr>\n",
       "      <th>17099</th>\n",
       "      <td>无所谓</td>\n",
       "      <td>4</td>\n",
       "      <td>Superior suspense thriller, leaves you thinkin...</td>\n",
       "      <td>2010-03-24</td>\n",
       "    </tr>\n",
       "  </tbody>\n",
       "</table>\n",
       "<p>17100 rows × 4 columns</p>\n",
       "</div>"
      ],
      "text/plain": [
       "                 user star                                            comment  \\\n",
       "0            kingfish    5                                         不需要女主角的好电影   \n",
       "1                  犀牛    5  当年的奥斯卡颁奖礼上，被如日中天的《阿甘正传》掩盖了它的光彩，而随着时间的推移，这部电影在越...   \n",
       "2             711|湯好运    5                                        策划了19年的私奔……   \n",
       "3      Eve|Classified    5  “这是一部男人必看的电影。”人人都这么说。但单纯从性别区分，就会让这电影变狭隘。《肖申克的救...   \n",
       "4                 艾小柯    5                                       关于希望最强有力的注释。   \n",
       "5               [已注销]    5                                          有种鸟是关不住的.   \n",
       "6            seawaver    5                                    忒经典的东西,我要带去我的坟墓   \n",
       "7                  寂地    5                                超级喜欢超级喜欢,不看的话人生不圆满.   \n",
       "8                 独行狼    5                                  这无疑是我看得最多的一部经典,爱死   \n",
       "9                九尾黑猫    2                                      真的不喜欢，不好看，没感觉   \n",
       "10                文泽尔    4         人的生命不过是从一个洞穴通往另一个世界..然后在那个世界的雨中继续颤抖.i hope   \n",
       "11                 影志    5  Fear Can Hold You Prisoner, Hope Can Set You Free   \n",
       "12            理想多钱一斤啊    4  Hope is a good thing, and maybe the best thing...   \n",
       "13                安东妮    3                                        点在哪？浅白的励志片诶   \n",
       "14              珍妮的肖像    5                                   没有人会不喜欢吧！书和电影都好。   \n",
       "15                小易甫    3                               在我的心目中,它一直都是最被高估的电影。   \n",
       "16                 眠去    5                               hope is a good thing   \n",
       "17              小耳朵图吗    5                                       越狱我感觉就是改编自这个   \n",
       "18            sterdam    5  因为1994年台湾引进了一部比较卖座的老片The Sting，被错译成了《刺激》。到了199...   \n",
       "19                叶荣添    2                             大众经典我从不感冒，为什么？我欣赏水平不行？   \n",
       "20               我不绝望    2                                         有那么好吗？？？？？   \n",
       "21          veronique    5                                 一部没有爱情与美女的电影,却光芒四射   \n",
       "22                  葱    5                                     这样的男人谁会舍得背叛。。。   \n",
       "23                 毛利    5                                            看完让人很振奋   \n",
       "24             游牧人·芳汀    4                           墙里的人老是喊自由，可是墙外的我们真正得到了吗？   \n",
       "25              老鸡｜扶立    5                                            我最喜欢的电影   \n",
       "26                 释凡    5  被誉为影史最棒，不管排名却肯定经典。缜密逃狱者，现代版《基督山恩仇记》，弗兰克·德拉邦叙事有...   \n",
       "27                 小海    5                      这部电影没什么好说的，史上最完美的电影，没有一秒尿尿时间！   \n",
       "28                乐安蓝    5                                          明修栈道，暗渡陈仓   \n",
       "29                 南笙    5                                          对不起，我戒酒了。   \n",
       "...               ...  ...                                                ...   \n",
       "17070        callusea    4                                                还不错   \n",
       "17071      sherrylynn    5                                                很虐心   \n",
       "17072            狗尾巴草    4  斯科塞斯非常忠于原著，电影中唠唠叨叨的解释性对话都来自原著，一字不易，只有部分幻想段落做出了...   \n",
       "17073          A-sun*    4                                              你故意的。   \n",
       "17074            奇爱博士    4                 看大银幕真是幸福 通篇苦逼小李子 多看此类片人会变神经【电影资料馆】   \n",
       "17075             黑天使    5                                            马丁你把我骗了   \n",
       "17076            大侠很忙    3                               别的不解读，3.5分，是一部精彩的悬疑剧   \n",
       "17077    WAKEUPSTUPID    3                  结构上的胜利,表达上的硬伤,老马丁借古喻今的痕迹太明显,太八股,,   \n",
       "17078             后来呢    4                                            结局一分钟高能   \n",
       "17079             红云彩    4                     疯狂的小李子，节奏不错，大起大落，以后还是看点让人开心的吧。   \n",
       "17080           麦子麦子酱    5  把自己逼疯的人最后到底选择去死还是接受手术变成行尸走肉那就见仁见智了，对这种开放式的结尾真是...   \n",
       "17081            一米八五    5                     看完之后浑身发凉~~到底应该怎么理解~~一种剧情两种结论诶~   \n",
       "17082            七颗子弹    5                              我是先知！\\r\\n第二遍看完，我又迷惑了。   \n",
       "17083            竹叶卷心    5  结尾我到没有什么别的猜测，因为后来也去看了原著，男主的确在被治疗我觉得更说得通。更让我有感触...   \n",
       "17084     Moe Szyslak    4                             由于以前看过小岛惊魂，看到一半就猜出结局了。   \n",
       "17085           Sammy    4                                              结局很棒。   \n",
       "17086             王天君    5                                       思前想后，还是五星算了。   \n",
       "17087      twopersons    3                              抄袭。那段音乐还行才没沦为较差一类的档次。   \n",
       "17088              呵呵    5                Shutter.Island.2010.BDRip.XviD-iMBT   \n",
       "17089           eklim    4                                    像怪物一样活着 像好人一样死去   \n",
       "17090          弥赛亚代言人    5                                         大师作品，真不是盖的   \n",
       "17091             大瘦瘦    4                         结局还是比原著弱，不过迷幻的味道能够出来已经值得一赞   \n",
       "17092        MegaMind    4                                             又老了1岁。   \n",
       "17093             刘小当    5  【四星半】至此，我方才惊觉我还真的有那么点“Jack情结”。本来以为自己很早就猜到了结局，但...   \n",
       "17094      Vini_Kazma    4                               现实与梦扑朔迷离，人格分裂，结尾很暧昧。   \n",
       "17095            我还是我    3                                                  x   \n",
       "17096       Dora KID.    5                                              结局犀利。   \n",
       "17097             王神爱    5                                                肥莱。   \n",
       "17098         ᴟoi&ioᴇ    4                                                 真绕   \n",
       "17099             无所谓    4  Superior suspense thriller, leaves you thinkin...   \n",
       "\n",
       "             time  \n",
       "0      2006-03-22  \n",
       "1      2005-10-28  \n",
       "2      2010-03-27  \n",
       "3      2008-05-09  \n",
       "4      2006-06-20  \n",
       "5      2007-06-06  \n",
       "6      2007-08-29  \n",
       "7      2006-01-02  \n",
       "8      2006-02-11  \n",
       "9      2008-03-19  \n",
       "10     2008-01-14  \n",
       "11     2006-02-04  \n",
       "12     2009-10-07  \n",
       "13     2009-05-05  \n",
       "14     2006-11-13  \n",
       "15     2008-06-08  \n",
       "16     2007-02-20  \n",
       "17     2007-08-21  \n",
       "18     2005-10-08  \n",
       "19     2011-02-21  \n",
       "20     2006-10-05  \n",
       "21     2006-06-15  \n",
       "22     2012-05-28  \n",
       "23     2006-11-21  \n",
       "24     2010-10-06  \n",
       "25     2008-01-10  \n",
       "26     2015-08-15  \n",
       "27     2010-01-28  \n",
       "28     2008-03-02  \n",
       "29     2012-01-06  \n",
       "...           ...  \n",
       "17070  2012-05-23  \n",
       "17071  2012-05-23  \n",
       "17072  2016-06-05  \n",
       "17073  2010-04-02  \n",
       "17074  2012-09-14  \n",
       "17075  2012-01-19  \n",
       "17076  2017-02-10  \n",
       "17077  2010-06-26  \n",
       "17078  2017-03-22  \n",
       "17079  2016-09-12  \n",
       "17080  2012-02-02  \n",
       "17081  2010-03-30  \n",
       "17082  2010-03-21  \n",
       "17083  2016-08-24  \n",
       "17084  2010-11-25  \n",
       "17085  2011-03-03  \n",
       "17086  2010-12-21  \n",
       "17087  2010-08-22  \n",
       "17088  2010-05-28  \n",
       "17089  2010-07-30  \n",
       "17090  2011-08-29  \n",
       "17091  2010-04-02  \n",
       "17092  2010-03-25  \n",
       "17093  2010-03-20  \n",
       "17094  2012-09-22  \n",
       "17095  2011-08-04  \n",
       "17096  2010-06-19  \n",
       "17097  2010-04-24  \n",
       "17098  2010-11-12  \n",
       "17099  2010-03-24  \n",
       "\n",
       "[17100 rows x 4 columns]"
      ]
     },
     "execution_count": 77,
     "metadata": {},
     "output_type": "execute_result"
    }
   ],
   "source": [
    "pd.read_csv('cmt_data1.csv', lineterminator='\\n')"
   ]
  },
  {
   "cell_type": "code",
   "execution_count": null,
   "metadata": {
    "collapsed": true
   },
   "outputs": [],
   "source": []
  }
 ],
 "metadata": {
  "kernelspec": {
   "display_name": "Python 3",
   "language": "python",
   "name": "python3"
  },
  "language_info": {
   "codemirror_mode": {
    "name": "ipython",
    "version": 3
   },
   "file_extension": ".py",
   "mimetype": "text/x-python",
   "name": "python",
   "nbconvert_exporter": "python",
   "pygments_lexer": "ipython3",
   "version": "3.6.3"
  }
 },
 "nbformat": 4,
 "nbformat_minor": 2
}
